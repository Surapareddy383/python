{
 "cells": [
  {
   "cell_type": "code",
   "execution_count": 1,
   "metadata": {},
   "outputs": [
    {
     "name": "stdout",
     "output_type": "stream",
     "text": [
      "180\n",
      "3\n",
      "600 300\n",
      "CROP IT\n",
      "120 1234\n",
      "UPLOAD ANOTHER\n",
      "400 400\n",
      "ACCEPTED\n"
     ]
    }
   ],
   "source": [
    "l=int(input())\n",
    "n=int(input())\n",
    "for i in range(n):\n",
    "    wh=input()\n",
    "    t=wh.split()\n",
    "    if int(t[0]) <l:\n",
    "        print(\"UPLOAD ANOTHER\")\n",
    "    elif int(t[0]) >l:\n",
    "        if int(t[1])==int(t[0]):\n",
    "            print(\"ACCEPTED\")\n",
    "        elif int(t[1])<l :\n",
    "            print(\"UPLOAD ANOTHER\")\n",
    "        else :\n",
    "            print(\"CROP IT\")\n",
    "            \n",
    "    else :\n",
    "        if int(t[1])==l:\n",
    "            print(\"ACCEPTED\")\n",
    "        elif int(t[1])>l:\n",
    "            print(\"CROP IT\")\n",
    "        else:\n",
    "            print(\"UPLOAD ANOTHER\")"
   ]
  },
  {
   "cell_type": "code",
   "execution_count": 4,
   "metadata": {},
   "outputs": [
    {
     "data": {
      "text/plain": [
       "['__add__',\n",
       " '__class__',\n",
       " '__contains__',\n",
       " '__delattr__',\n",
       " '__delitem__',\n",
       " '__dir__',\n",
       " '__doc__',\n",
       " '__eq__',\n",
       " '__format__',\n",
       " '__ge__',\n",
       " '__getattribute__',\n",
       " '__getitem__',\n",
       " '__gt__',\n",
       " '__hash__',\n",
       " '__iadd__',\n",
       " '__imul__',\n",
       " '__init__',\n",
       " '__init_subclass__',\n",
       " '__iter__',\n",
       " '__le__',\n",
       " '__len__',\n",
       " '__lt__',\n",
       " '__mul__',\n",
       " '__ne__',\n",
       " '__new__',\n",
       " '__reduce__',\n",
       " '__reduce_ex__',\n",
       " '__repr__',\n",
       " '__reversed__',\n",
       " '__rmul__',\n",
       " '__setattr__',\n",
       " '__setitem__',\n",
       " '__sizeof__',\n",
       " '__str__',\n",
       " '__subclasshook__',\n",
       " 'append',\n",
       " 'clear',\n",
       " 'copy',\n",
       " 'count',\n",
       " 'extend',\n",
       " 'index',\n",
       " 'insert',\n",
       " 'pop',\n",
       " 'remove',\n",
       " 'reverse',\n",
       " 'sort']"
      ]
     },
     "execution_count": 4,
     "metadata": {},
     "output_type": "execute_result"
    }
   ],
   "source": [
    "dir(list)"
   ]
  },
  {
   "cell_type": "code",
   "execution_count": 6,
   "metadata": {},
   "outputs": [
    {
     "name": "stdout",
     "output_type": "stream",
     "text": [
      "[9, 8, 7, 6, 5, 4, 3, 2, 1]\n"
     ]
    }
   ],
   "source": [
    "r1=[1,2,3,4,5,6]\n",
    "r2=[7,8,9,10,11,12]\n",
    "r3=[13,14,15,16,17,18]\n",
    "r4=[19,20,21,22,23,24]\n",
    "r5=[25,26,27,28,29,30]\n",
    "r6=[31,32,33,34,35,36]\n",
    "r7=[37,38,39,40,41,42]\n",
    "r8=[43,44,45,46,47,48]\n",
    "r9=[49,50,51,52,53,54]\n",
    "r10=[55,56,57,58,59,60]\n",
    "r11=[61,62,63,64,65,66]\n",
    "r12=[67,68,69,70,71,72]\n",
    "r13=[73,74,75,76,77,78]\n",
    "r14=[79,80,81,82,83,84]\n",
    "r15=[85,86,87,88,89,90]\n",
    "r16=[91,92,93,94,95,96]\n",
    "r17=[97,98,99,100,101,102]\n",
    "r18=[103,104,105,106,107,108]\n",
    "z=int(input())\n",
    "if "
   ]
  },
  {
   "cell_type": "code",
   "execution_count": 3,
   "metadata": {},
   "outputs": [
    {
     "name": "stdout",
     "output_type": "stream",
     "text": [
      "dfg\n"
     ]
    }
   ],
   "source": [
    "e=input()\n",
    "l=list(e)\n",
    "for i in range(0,len(e)):\n",
    "    l[i]\n"
   ]
  },
  {
   "cell_type": "code",
   "execution_count": 9,
   "metadata": {},
   "outputs": [
    {
     "ename": "SyntaxError",
     "evalue": "can't assign to function call (<ipython-input-9-3adc3de34f0e>, line 7)",
     "output_type": "error",
     "traceback": [
      "\u001b[1;36m  File \u001b[1;32m\"<ipython-input-9-3adc3de34f0e>\"\u001b[1;36m, line \u001b[1;32m7\u001b[0m\n\u001b[1;33m    str(h[(j)])='B'\u001b[0m\n\u001b[1;37m    ^\u001b[0m\n\u001b[1;31mSyntaxError\u001b[0m\u001b[1;31m:\u001b[0m can't assign to function call\n"
     ]
    }
   ],
   "source": []
  },
  {
   "cell_type": "code",
   "execution_count": null,
   "metadata": {},
   "outputs": [],
   "source": []
  }
 ],
 "metadata": {
  "kernelspec": {
   "display_name": "Python 3",
   "language": "python",
   "name": "python3"
  },
  "language_info": {
   "codemirror_mode": {
    "name": "ipython",
    "version": 3
   },
   "file_extension": ".py",
   "mimetype": "text/x-python",
   "name": "python",
   "nbconvert_exporter": "python",
   "pygments_lexer": "ipython3",
   "version": "3.7.3"
  }
 },
 "nbformat": 4,
 "nbformat_minor": 2
}
