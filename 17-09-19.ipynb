{
 "cells": [
  {
   "cell_type": "code",
   "execution_count": null,
   "metadata": {},
   "outputs": [],
   "source": [
    "s={3,356,35234,6,34,455}\n",
    "l=list(s)\n",
    "l.sort()\n",
    "print(l[-1])"
   ]
  },
  {
   "cell_type": "code",
   "execution_count": 2,
   "metadata": {},
   "outputs": [
    {
     "name": "stdout",
     "output_type": "stream",
     "text": [
      "no of testcases3\n",
      "in which floor you are ?4\n",
      "lift B will come\n",
      "in which floor you are ?2\n",
      "lift A will come\n",
      "in which floor you are ?3\n",
      "lift A will come\n"
     ]
    }
   ],
   "source": [
    "ff=0\n",
    "tf=7\n",
    "t=int(input(\"no of testcases\"))\n",
    "z=1\n",
    "a=ff\n",
    "b=tf\n",
    "while z<(t+1):\n",
    "    p=int(input(\"in which floor you are ?\"))\n",
    "    if (abs(p-a))>(abs(p-b)):\n",
    "        print(\"lift B will come\")\n",
    "        b=p\n",
    "    elif (abs(p-a))==(abs(p-b)):\n",
    "        print(\"lift A will come\")\n",
    "        a=p\n",
    "            \n",
    "    else:\n",
    "        print(\"lift A will come\")\n",
    "        a=p\n",
    "    z+=1"
   ]
  },
  {
   "cell_type": "code",
   "execution_count": 4,
   "metadata": {},
   "outputs": [
    {
     "name": "stdout",
     "output_type": "stream",
     "text": [
      "no of test cases1\n",
      "abhi hibba\n",
      "no\n"
     ]
    }
   ],
   "source": [
    "z=int(input(\"no of test cases\"))\n",
    "for i in range(z):\n",
    "    s=(input())\n",
    "    t=s.split()\n",
    "    s1=t[0]\n",
    "    s2=t[1]\n",
    "    p=sorted(s1)\n",
    "    q=sorted(s2)\n",
    "    if p==q:\n",
    "        print(\"yes\")\n",
    "    else:\n",
    "        print(\"no\")\n",
    "        \n",
    "\n"
   ]
  },
  {
   "cell_type": "code",
   "execution_count": null,
   "metadata": {},
   "outputs": [],
   "source": []
  }
 ],
 "metadata": {
  "kernelspec": {
   "display_name": "Python 3",
   "language": "python",
   "name": "python3"
  },
  "language_info": {
   "codemirror_mode": {
    "name": "ipython",
    "version": 3
   },
   "file_extension": ".py",
   "mimetype": "text/x-python",
   "name": "python",
   "nbconvert_exporter": "python",
   "pygments_lexer": "ipython3",
   "version": "3.7.3"
  }
 },
 "nbformat": 4,
 "nbformat_minor": 2
}
