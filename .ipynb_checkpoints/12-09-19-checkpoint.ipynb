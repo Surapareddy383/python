{
 "cells": [
  {
   "cell_type": "markdown",
   "metadata": {},
   "source": [
    "# divisible by 6 not a factor of 100"
   ]
  },
  {
   "cell_type": "code",
   "execution_count": null,
   "metadata": {},
   "outputs": [],
   "source": [
    "l=int(input())\n",
    "u=int(input())\n",
    "def divisibility(a,b):\n",
    "    for i in range(a,b+1):\n",
    "        if i%6==0:\n",
    "            s=i\n",
    "            if s%100!=0:\n",
    "                print(s)\n",
    "divisibility(l,u)"
   ]
  },
  {
   "cell_type": "markdown",
   "metadata": {},
   "source": [
    "# avg of cube of even num"
   ]
  },
  {
   "cell_type": "code",
   "execution_count": 16,
   "metadata": {},
   "outputs": [
    {
     "name": "stdout",
     "output_type": "stream",
     "text": [
      "4\n",
      "6\n",
      "140\n"
     ]
    }
   ],
   "source": [
    "l=int(input())\n",
    "u=int(input())\n",
    "def avgcube(a,b):\n",
    "    j=0\n",
    "    t=0\n",
    "    for i in range(a,b+1):\n",
    "        if i%2==0:\n",
    "            c=i*i*i\n",
    "            t=t+c\n",
    "            j=j+1\n",
    "            s=t//j\n",
    "    print(s)\n",
    "avgcube(l,u)"
   ]
  },
  {
   "cell_type": "markdown",
   "metadata": {},
   "source": [
    "# factors for given number"
   ]
  },
  {
   "cell_type": "code",
   "execution_count": 13,
   "metadata": {},
   "outputs": [
    {
     "name": "stdout",
     "output_type": "stream",
     "text": [
      "6\n",
      "1\n",
      "2\n",
      "3\n",
      "6\n"
     ]
    }
   ],
   "source": [
    "l=int(input())\n",
    "def factor(a):\n",
    "    for i in range(1,a+1):\n",
    "        if a%i==0:\n",
    "            print(i)\n",
    "factor(l)"
   ]
  },
  {
   "cell_type": "code",
   "execution_count": null,
   "metadata": {},
   "outputs": [],
   "source": []
  }
 ],
 "metadata": {
  "kernelspec": {
   "display_name": "Python 3",
   "language": "python",
   "name": "python3"
  },
  "language_info": {
   "codemirror_mode": {
    "name": "ipython",
    "version": 3
   },
   "file_extension": ".py",
   "mimetype": "text/x-python",
   "name": "python",
   "nbconvert_exporter": "python",
   "pygments_lexer": "ipython3",
   "version": "3.7.3"
  }
 },
 "nbformat": 4,
 "nbformat_minor": 2
}
