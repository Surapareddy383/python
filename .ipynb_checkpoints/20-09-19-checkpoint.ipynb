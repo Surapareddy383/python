{
 "cells": [
  {
   "cell_type": "code",
   "execution_count": 9,
   "metadata": {},
   "outputs": [
    {
     "name": "stdout",
     "output_type": "stream",
     "text": [
      "enter a value123\n",
      "111111111111"
     ]
    }
   ],
   "source": [
    "d={1:2,2:5,3:5,4:4,5:5,6:6,7:3,8:7,9:6,0:6}\n",
    "x=(input(\"enter a value\"))\n",
    "c=0\n",
    "for i in x:\n",
    "    c=c+d[int(i)]\n",
    "k=c\n",
    "if c%2!=0:\n",
    "    print(\"7\",end='')\n",
    "    for j in range(1,k):\n",
    "        print(\"1\",end='')\n",
    "else :\n",
    "    for j in range(1,k+1):\n",
    "        print(\"1\",end='')"
   ]
  },
  {
   "cell_type": "code",
   "execution_count": 24,
   "metadata": {},
   "outputs": [
    {
     "name": "stdout",
     "output_type": "stream",
     "text": [
      "enter a value5\n",
      "711"
     ]
    }
   ],
   "source": [
    "d={1:2,2:5,3:5,4:4,5:5,6:6,7:3,8:7,9:6,0:6}\n",
    "x=(input(\"enter a value\"))\n",
    "c=0\n",
    "for i in x:\n",
    "    c=c+d[int(i)]\n",
    "k=c\n",
    "e=k//2\n",
    "if c%2!=0:\n",
    "    print(\"7\",end='')\n",
    "    for j in range(1,e):\n",
    "        print(\"1\",end='')\n",
    "else :\n",
    "    for j in range(1,e+1):\n",
    "        print(\"1\",end='')"
   ]
  },
  {
   "cell_type": "code",
   "execution_count": 3,
   "metadata": {},
   "outputs": [
    {
     "name": "stdout",
     "output_type": "stream",
     "text": [
      "enter ISBN number123456\n",
      "Invalid ISBN Number\n"
     ]
    }
   ],
   "source": [
    "e=input(\"enter ISBN number\")\n",
    "t=list(e)\n",
    "c=0\n",
    "res=0\n",
    "for i in e:\n",
    "    c=c+1\n",
    "if c==10:\n",
    "#     i=0\n",
    "    for j in range(1,11):\n",
    "            p=int(t[j-1])\n",
    "#             print(type(p))\n",
    "            k=j\n",
    "            temp=(p*k)\n",
    "            res=res+temp\n",
    "    if res%11==0:\n",
    "        print(e,\" is Legal ISBN Number\")\n",
    "    else :\n",
    "        print(\"not a Legal ISBN Number\")\n",
    "#         i+=1\n",
    "else :\n",
    "    print(\"Invalid ISBN Number\")\n",
    "# if res%11==0:\n",
    "#     print(e,\" is Legal ISBN Number\")"
   ]
  },
  {
   "cell_type": "code",
   "execution_count": null,
   "metadata": {},
   "outputs": [],
   "source": []
  }
 ],
 "metadata": {
  "kernelspec": {
   "display_name": "Python 3",
   "language": "python",
   "name": "python3"
  },
  "language_info": {
   "codemirror_mode": {
    "name": "ipython",
    "version": 3
   },
   "file_extension": ".py",
   "mimetype": "text/x-python",
   "name": "python",
   "nbconvert_exporter": "python",
   "pygments_lexer": "ipython3",
   "version": "3.7.3"
  }
 },
 "nbformat": 4,
 "nbformat_minor": 2
}
