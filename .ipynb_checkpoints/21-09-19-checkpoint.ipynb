{
 "cells": [
  {
   "cell_type": "code",
   "execution_count": null,
   "metadata": {},
   "outputs": [],
   "source": [
    "d={1:2,2:5,3:5,4:4,}\n",
    "a=input()\n",
    "c=0\n",
    "for i in a :\n",
    "    c=c+d[int(i)]\n",
    "print(c)\n"
   ]
  },
  {
   "cell_type": "code",
   "execution_count": null,
   "metadata": {},
   "outputs": [],
   "source": [
    "filepath=\"./files/dummy.txt\"\n",
    "with open(filepath,'w') as f:\n",
    "    f.write(\"dummy: i'm not dummy \\n      i'm thop \\n      i'm monarch\")"
   ]
  },
  {
   "cell_type": "code",
   "execution_count": null,
   "metadata": {
    "scrolled": true
   },
   "outputs": [],
   "source": [
    "filepath=\"./files/dummy.txt\"\n",
    "with open(filepath,'r') as f:\n",
    "    line=f.readline()\n",
    "    print(line)"
   ]
  },
  {
   "cell_type": "code",
   "execution_count": 8,
   "metadata": {},
   "outputs": [
    {
     "ename": "SyntaxError",
     "evalue": "invalid syntax (<ipython-input-8-419a753bbfa8>, line 4)",
     "output_type": "error",
     "traceback": [
      "\u001b[1;36m  File \u001b[1;32m\"<ipython-input-8-419a753bbfa8>\"\u001b[1;36m, line \u001b[1;32m4\u001b[0m\n\u001b[1;33m    t=(sh sm eh em)\u001b[0m\n\u001b[1;37m           ^\u001b[0m\n\u001b[1;31mSyntaxError\u001b[0m\u001b[1;31m:\u001b[0m invalid syntax\n"
     ]
    }
   ],
   "source": [
    "test=int(input())\n",
    "for i in range(1,test+1):\n",
    "#     print(i)\n",
    "    t=(input(\"enter sh sm eh em\"))\n",
    "    s=t.split()\n",
    "    sh=int(input(s[0]))\n",
    "    sm=int(input(s[1]))\n",
    "    eh=int(input(s[2]))\n",
    "    em=int(input(s[3]))\n",
    "    if sm >em:\n",
    "        rh=abs(eh-sh-1)\n",
    "        rm=abs(em+(60-sm))\n",
    "    else:    \n",
    "        rh=abs(eh-sh)\n",
    "        rm=abs(em-sm)\n",
    "    print(rh,end='')\n",
    "    print(\" \",rm)\n",
    "\n"
   ]
  },
  {
   "cell_type": "code",
   "execution_count": null,
   "metadata": {},
   "outputs": [],
   "source": []
  }
 ],
 "metadata": {
  "kernelspec": {
   "display_name": "Python 3",
   "language": "python",
   "name": "python3"
  },
  "language_info": {
   "codemirror_mode": {
    "name": "ipython",
    "version": 3
   },
   "file_extension": ".py",
   "mimetype": "text/x-python",
   "name": "python",
   "nbconvert_exporter": "python",
   "pygments_lexer": "ipython3",
   "version": "3.7.3"
  }
 },
 "nbformat": 4,
 "nbformat_minor": 2
}
