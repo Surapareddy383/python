{
 "cells": [
  {
   "cell_type": "code",
   "execution_count": 4,
   "metadata": {},
   "outputs": [
    {
     "name": "stdout",
     "output_type": "stream",
     "text": [
      "3\n",
      "i\n",
      "am\n",
      "fine\n",
      "['i', 'am', 'fine']\n"
     ]
    }
   ],
   "source": [
    "a=[]\n",
    "g=int(input())\n",
    "for i in range(0,g):\n",
    "    i=input()\n",
    "    a.append(i)\n",
    "print(a)"
   ]
  },
  {
   "cell_type": "code",
   "execution_count": null,
   "metadata": {},
   "outputs": [],
   "source": [
    "u=int(input())\n",
    "x=0\n",
    "for i in range(1,u) :\n",
    "    if u%i==0:\n",
    "        x=x+i\n",
    "if x==u:\n",
    "    \n",
    "    print(\"perfect number\")\n",
    "else :\n",
    "    print(\"not a perfect number\")\n"
   ]
  },
  {
   "cell_type": "code",
   "execution_count": null,
   "metadata": {},
   "outputs": [],
   "source": [
    "n=int(input())\n",
    "if n>9 and n<100:\n",
    "    i=n%10\n",
    "    j=n//10\n",
    "    s=i+j\n",
    "    p=i*j\n",
    "    t=s+p\n",
    "if  n==t:\n",
    "    print(\"special numbr\")\n",
    "else :\n",
    "    print(\"not a special\")\n",
    "    "
   ]
  },
  {
   "cell_type": "code",
   "execution_count": 27,
   "metadata": {},
   "outputs": [
    {
     "name": "stdout",
     "output_type": "stream",
     "text": [
      "1\n",
      "9\n",
      "2\n",
      "3\n",
      "5\n",
      "7\n"
     ]
    }
   ],
   "source": [
    "\n",
    "        \n",
    "l=int(input())\n",
    "u=int(input())\n",
    "c=0\n",
    "def prime (a,c):\n",
    "    for i in range(1,a+1):\n",
    "        if a%i==0 :\n",
    "            c=c+1\n",
    "    if c==2:\n",
    "        print(i)\n",
    "for j in range(l,u+1):\n",
    "    prime(j,c)"
   ]
  },
  {
   "cell_type": "code",
   "execution_count": null,
   "metadata": {},
   "outputs": [],
   "source": [
    "l=int(input())\n",
    "u=int(input())\n"
   ]
  }
 ],
 "metadata": {
  "kernelspec": {
   "display_name": "Python 3",
   "language": "python",
   "name": "python3"
  },
  "language_info": {
   "codemirror_mode": {
    "name": "ipython",
    "version": 3
   },
   "file_extension": ".py",
   "mimetype": "text/x-python",
   "name": "python",
   "nbconvert_exporter": "python",
   "pygments_lexer": "ipython3",
   "version": "3.7.3"
  }
 },
 "nbformat": 4,
 "nbformat_minor": 2
}
