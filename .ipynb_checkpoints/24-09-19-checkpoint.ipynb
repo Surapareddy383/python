{
 "cells": [
  {
   "cell_type": "code",
   "execution_count": 1,
   "metadata": {},
   "outputs": [
    {
     "name": "stdout",
     "output_type": "stream",
     "text": [
      "2\n",
      "balloon cost1 9\n",
      "how many solved1 1\n",
      "how many solved1 1\n",
      "how many solved1 1\n",
      "how many solved1 1\n",
      "how many solved1 1\n",
      "how many solved1 1\n",
      "how many solved1 1\n",
      "how many solved1 1\n",
      "how many solved1 1\n",
      "how many solved1 1\n",
      "100\n",
      "balloon cost1 1\n",
      "balloon cost1 1\n",
      "how many solved1 1\n",
      "how many solved1 1\n",
      "how many solved1 1\n",
      "how many solved1 1\n",
      "how many solved1 1\n",
      "how many solved1 1\n",
      "how many solved1 1\n",
      "how many solved1 1\n",
      "how many solved1 1\n",
      "how many solved1 1\n",
      "20\n"
     ]
    }
   ],
   "source": [
    "test=int(input())\n",
    "value=0\n",
    "value1=0\n",
    "z=0\n",
    "for i in range(test):\n",
    "    colour=input(\"balloon cost\")\n",
    "    temp=colour.split()\n",
    "    if i==0:\n",
    "        for j in range(0,10):\n",
    "            purp=int(temp[0])\n",
    "            green=int(temp[1])\n",
    "            solved=input(\"how many solved\")\n",
    "            t=solved.split()\n",
    "            if int(t[int(z)])>0:\n",
    "                value=value+purp\n",
    "            else:\n",
    "                value=value+0\n",
    "            if int(t[int(z+1)])>0:\n",
    "                value=value+green\n",
    "            else :\n",
    "                value=value+0\n",
    "        print(value)\n",
    "    else:\n",
    "        z=0\n",
    "        colour1=input(\"balloon cost\")\n",
    "        temp1=colour1.split()        \n",
    "        for k in range(0,10):\n",
    "            purp=int(temp1[0])\n",
    "            green=int(temp1[1])\n",
    "            solved=input(\"how many solved\")\n",
    "            t1=solved.split()\n",
    "            if int(t1[int(z)])>0:\n",
    "                value1=value1+purp\n",
    "            else:\n",
    "                value1=value1+0\n",
    "            if int(t1[int(z+1)])>0:\n",
    "                value1=value1+green\n",
    "            else :\n",
    "                value1=value1+0\n",
    "print(value1)\n",
    "        \n"
   ]
  },
  {
   "cell_type": "markdown",
   "metadata": {},
   "source": [
    "# "
   ]
  }
 ],
 "metadata": {
  "kernelspec": {
   "display_name": "Python 3",
   "language": "python",
   "name": "python3"
  },
  "language_info": {
   "codemirror_mode": {
    "name": "ipython",
    "version": 3
   },
   "file_extension": ".py",
   "mimetype": "text/x-python",
   "name": "python",
   "nbconvert_exporter": "python",
   "pygments_lexer": "ipython3",
   "version": "3.7.3"
  }
 },
 "nbformat": 4,
 "nbformat_minor": 2
}
