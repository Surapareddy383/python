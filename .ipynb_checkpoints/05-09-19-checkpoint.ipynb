{
 "cells": [
  {
   "cell_type": "code",
   "execution_count": 1,
   "metadata": {},
   "outputs": [
    {
     "name": "stdout",
     "output_type": "stream",
     "text": [
      "13\n",
      "-5\n",
      "36\n",
      "0.4444444444444444\n"
     ]
    }
   ],
   "source": [
    "a=4\n",
    "b=9\n",
    "print(a+b)\n",
    "print(a-b)\n",
    "print(a*b)\n",
    "print(a/b)"
   ]
  },
  {
   "cell_type": "code",
   "execution_count": 17,
   "metadata": {},
   "outputs": [
    {
     "name": "stdout",
     "output_type": "stream",
     "text": [
      "3\n",
      "3\n",
      "6\n",
      "0\n",
      "9\n",
      "1.0\n"
     ]
    }
   ],
   "source": [
    "a=int(input())\n",
    "b=int(input())\n",
    "print(a+b)\n",
    "print(a-b)\n",
    "print(a*b)\n",
    "print(a/b)"
   ]
  },
  {
   "cell_type": "markdown",
   "metadata": {},
   "source": [
    "## calender"
   ]
  },
  {
   "cell_type": "code",
   "execution_count": 13,
   "metadata": {},
   "outputs": [
    {
     "name": "stdout",
     "output_type": "stream",
     "text": [
      "1998\n",
      "6\n",
      "     June 1998\n",
      "Mo Tu We Th Fr Sa Su\n",
      " 1  2  3  4  5  6  7\n",
      " 8  9 10 11 12 13 14\n",
      "15 16 17 18 19 20 21\n",
      "22 23 24 25 26 27 28\n",
      "29 30\n",
      "\n"
     ]
    }
   ],
   "source": [
    "import calendar\n",
    "year=int(input())\n",
    "month=int(input())\n",
    "c=calendar.month(year,month)\n",
    "print(c)"
   ]
  },
  {
   "cell_type": "markdown",
   "metadata": {},
   "source": [
    "# factorial"
   ]
  },
  {
   "cell_type": "code",
   "execution_count": 21,
   "metadata": {},
   "outputs": [
    {
     "name": "stdout",
     "output_type": "stream",
     "text": [
      "6\n",
      " 720\n"
     ]
    }
   ],
   "source": [
    "num=int(input())\n",
    "f=1\n",
    "for i in range(1,num+1):\n",
    "    f=f*i\n",
    "print(\"\",f)"
   ]
  },
  {
   "cell_type": "markdown",
   "metadata": {},
   "source": [
    "# printing|"
   ]
  },
  {
   "cell_type": "code",
   "execution_count": 30,
   "metadata": {},
   "outputs": [
    {
     "name": "stdout",
     "output_type": "stream",
     "text": [
      "surapareddy eti\n",
      "surapareddy g\n",
      "surapareddy gtg\n",
      "thota eti\n",
      "thota g\n",
      "thota gtg\n",
      "vipparla eti\n",
      "vipparla g\n",
      "vipparla gtg\n",
      "vaka eti\n",
      "vaka g\n",
      "vaka gtg\n"
     ]
    }
   ],
   "source": [
    "x=[\"surapareddy\",\"thota\",\"vipparla\",\"vaka\"]\n",
    "y=[\"eti\",\"g\",\"gtg\"]\n",
    "for i in x:\n",
    "    for j in y:\n",
    "        print(i,j)"
   ]
  },
  {
   "cell_type": "markdown",
   "metadata": {},
   "source": [
    "# function "
   ]
  },
  {
   "cell_type": "code",
   "execution_count": 41,
   "metadata": {},
   "outputs": [
    {
     "name": "stdout",
     "output_type": "stream",
     "text": [
      "enter value 2\n",
      "enter value 4\n",
      "6\n",
      "-2\n",
      "8\n"
     ]
    }
   ],
   "source": [
    "def add(x,y):\n",
    "    c=x+y\n",
    "    return c\n",
    "def sub(x,y):\n",
    "    c=x-y\n",
    "    return c\n",
    "def mul(x,y):\n",
    "    c=x*y\n",
    "    return c\n",
    "a=int(input(\"enter value \"))\n",
    "b=int(input(\"enter value \"))\n",
    "print(add(a,b))\n",
    "print(sub(a,b))\n",
    "print(mul(a,b))"
   ]
  },
  {
   "cell_type": "markdown",
   "metadata": {},
   "source": [
    "# tables"
   ]
  },
  {
   "cell_type": "code",
   "execution_count": 45,
   "metadata": {},
   "outputs": [
    {
     "name": "stdout",
     "output_type": "stream",
     "text": [
      "which table u want2\n",
      "max value in table2\n",
      "2 * 1 = 2\n",
      "2 * 2 = 4\n"
     ]
    }
   ],
   "source": [
    "n=int(input(\"which table u want\"))\n",
    "r=int(input(\"max value in table\"))\n",
    "for i in range(1,r+1):\n",
    "    t=n*i\n",
    "    print(n,\"*\",i,\"=\",t)"
   ]
  },
  {
   "cell_type": "code",
   "execution_count": 49,
   "metadata": {},
   "outputs": [
    {
     "name": "stdout",
     "output_type": "stream",
     "text": [
      "33\n",
      "odd\n"
     ]
    }
   ],
   "source": [
    "def even(a):\n",
    "    if a%2==0:\n",
    "        print(\"even\")\n",
    "    else:\n",
    "        print(\"odd\")\n",
    "n=int(input())\n",
    "even(n)"
   ]
  },
  {
   "cell_type": "code",
   "execution_count": null,
   "metadata": {},
   "outputs": [],
   "source": []
  }
 ],
 "metadata": {
  "kernelspec": {
   "display_name": "Python 3",
   "language": "python",
   "name": "python3"
  },
  "language_info": {
   "codemirror_mode": {
    "name": "ipython",
    "version": 3
   },
   "file_extension": ".py",
   "mimetype": "text/x-python",
   "name": "python",
   "nbconvert_exporter": "python",
   "pygments_lexer": "ipython3",
   "version": "3.7.3"
  }
 },
 "nbformat": 4,
 "nbformat_minor": 2
}
