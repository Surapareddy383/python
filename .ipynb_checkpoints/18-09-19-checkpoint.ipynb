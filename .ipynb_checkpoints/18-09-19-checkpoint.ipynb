{
 "cells": [
  {
   "cell_type": "code",
   "execution_count": 20,
   "metadata": {},
   "outputs": [
    {
     "name": "stdout",
     "output_type": "stream",
     "text": [
      "enetr value3334\n",
      "19\n"
     ]
    }
   ],
   "source": [
    "d={1:2,2:5,3:5,4:4,5:5,6:6,7:3,8:7,9:6,0:6}\n",
    "x=(input(\"enetr value\"))\n",
    "c=0\n",
    "for i in x:\n",
    "    c=c+d[int(i)]\n",
    "print(c)"
   ]
  },
  {
   "cell_type": "code",
   "execution_count": 28,
   "metadata": {},
   "outputs": [
    {
     "name": "stdout",
     "output_type": "stream",
     "text": [
      "enter code :llrrdd\n",
      "coordinates are (0, -2)\n"
     ]
    }
   ],
   "source": [
    "c=input(\"enter code :\")\n",
    "d={\"l\":-1,\"r\":1,\"u\":1,\"d\":-1}\n",
    "x=0\n",
    "y=0\n",
    "for i in c:\n",
    "    if i=='l' or i=='r':\n",
    "        x=x+d[i]\n",
    "    elif i=='u' or i=='d':\n",
    "        y=y+d[i]\n",
    "    else:\n",
    "        print(\"code can not detected\")\n",
    "print(\"coordinates are\",(x,y))\n",
    "\n",
    "   "
   ]
  },
  {
   "cell_type": "code",
   "execution_count": null,
   "metadata": {},
   "outputs": [],
   "source": []
  }
 ],
 "metadata": {
  "kernelspec": {
   "display_name": "Python 3",
   "language": "python",
   "name": "python3"
  },
  "language_info": {
   "codemirror_mode": {
    "name": "ipython",
    "version": 3
   },
   "file_extension": ".py",
   "mimetype": "text/x-python",
   "name": "python",
   "nbconvert_exporter": "python",
   "pygments_lexer": "ipython3",
   "version": "3.7.3"
  }
 },
 "nbformat": 4,
 "nbformat_minor": 2
}
