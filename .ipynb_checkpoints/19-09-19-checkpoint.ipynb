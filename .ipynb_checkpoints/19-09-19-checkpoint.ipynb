{
 "cells": [
  {
   "cell_type": "markdown",
   "metadata": {},
   "source": [
    "# sample "
   ]
  },
  {
   "cell_type": "code",
   "execution_count": 19,
   "metadata": {},
   "outputs": [],
   "source": [
    "filePath=\"./sample.txt\"\n",
    "with open(filePath,'w') as f:\n",
    "    f.write(\"that thopp identity i got is SURAPAREDDY: JAGAN ANNA FAN RA \\n SURAPAREDDY: JAGAN ANNA FAN RA \\n YSRCP\")\n"
   ]
  },
  {
   "cell_type": "code",
   "execution_count": 35,
   "metadata": {},
   "outputs": [
    {
     "name": "stdout",
     "output_type": "stream",
     "text": [
      "that thopp identity i got is SURAPAREDDY: JAGAN ANNA FAN RA \n",
      " SURAPAREDDY: JAGAN ANNA FAN RA \n",
      " YSRCP\n"
     ]
    }
   ],
   "source": [
    "filePath=\"./sample.txt\"\n",
    "with open(filePath,'r') as f:\n",
    "    d=f.read()\n",
    "    print(d)"
   ]
  },
  {
   "cell_type": "code",
   "execution_count": 38,
   "metadata": {},
   "outputs": [
    {
     "name": "stdout",
     "output_type": "stream",
     "text": [
      " SURAPAREDDY: JAGAN ANNA FAN RA \n",
      "\n"
     ]
    }
   ],
   "source": [
    "filePath=\"./sample.txt\"\n",
    "with open(filePath,'r') as f:\n",
    "    d=(f.readlines())\n",
    "    l=list(d)\n",
    "    print(l[1])\n"
   ]
  },
  {
   "cell_type": "code",
   "execution_count": 51,
   "metadata": {},
   "outputs": [
    {
     "name": "stdout",
     "output_type": "stream",
     "text": [
      "enterl r k\n",
      "l1\n",
      "r95\n",
      "k5\n",
      "19\n"
     ]
    }
   ],
   "source": [
    "e=input(\"enter\")\n",
    "c=0\n",
    "t=e.split()\n",
    "l=int(input(t[0]))\n",
    "u=int(input(t[1]))\n",
    "z=int(input(t[2]))\n",
    "for i in range(l,u+1):\n",
    "    if i%z==0:\n",
    "        c=c+1\n",
    "print(c)"
   ]
  },
  {
   "cell_type": "code",
   "execution_count": null,
   "metadata": {},
   "outputs": [],
   "source": []
  }
 ],
 "metadata": {
  "kernelspec": {
   "display_name": "Python 3",
   "language": "python",
   "name": "python3"
  },
  "language_info": {
   "codemirror_mode": {
    "name": "ipython",
    "version": 3
   },
   "file_extension": ".py",
   "mimetype": "text/x-python",
   "name": "python",
   "nbconvert_exporter": "python",
   "pygments_lexer": "ipython3",
   "version": "3.7.3"
  }
 },
 "nbformat": 4,
 "nbformat_minor": 2
}
