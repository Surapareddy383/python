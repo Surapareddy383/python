{
 "cells": [
  {
   "cell_type": "code",
   "execution_count": null,
   "metadata": {},
   "outputs": [],
   "source": [
    "d={1:2,2:5,3:5,4:4,}\n",
    "a=input()\n",
    "c=0\n",
    "for i in a :\n",
    "    c=c+d[int(i)]\n",
    "print(c)\n"
   ]
  },
  {
   "cell_type": "code",
   "execution_count": null,
   "metadata": {},
   "outputs": [],
   "source": [
    "filepath=\"./files/dummy.txt\"\n",
    "with open(filepath,'w') as f:\n",
    "    f.write(\"dummy: i'm not dummy \\n      i'm thop \\n      i'm monarch\")"
   ]
  },
  {
   "cell_type": "code",
   "execution_count": null,
   "metadata": {
    "scrolled": true
   },
   "outputs": [],
   "source": [
    "filepath=\"./files/dummy.txt\"\n",
    "with open(filepath,'r') as f:\n",
    "    line=f.readline()\n",
    "    print(line)"
   ]
  },
  {
   "cell_type": "code",
   "execution_count": 11,
   "metadata": {},
   "outputs": [
    {
     "name": "stdout",
     "output_type": "stream",
     "text": [
      "1\n",
      "sh11\n",
      "sm4\n",
      "eh6\n",
      "em15\n",
      "5  11\n"
     ]
    }
   ],
   "source": [
    "test=int(input())\n",
    "for i in range(1,test+1):\n",
    "    t='sh sm eh em'\n",
    "#     t=(input(\"enter sh sm eh em\"))\n",
    "    s=t.split()\n",
    "    sh=int(input(s[0]))\n",
    "    sm=int(input(s[1]))\n",
    "    eh=int(input(s[2]))\n",
    "    em=int(input(s[3]))\n",
    "    if sm >em:\n",
    "        rh=abs(eh-sh-1)\n",
    "        rm=abs(em+(60-sm))\n",
    "    else:    \n",
    "        rh=abs(eh-sh)\n",
    "        rm=abs(em-sm)\n",
    "    print(rh,end='')\n",
    "    print(\" \",rm)\n",
    "\n"
   ]
  },
  {
   "cell_type": "code",
   "execution_count": null,
   "metadata": {},
   "outputs": [],
   "source": []
  }
 ],
 "metadata": {
  "kernelspec": {
   "display_name": "Python 3",
   "language": "python",
   "name": "python3"
  },
  "language_info": {
   "codemirror_mode": {
    "name": "ipython",
    "version": 3
   },
   "file_extension": ".py",
   "mimetype": "text/x-python",
   "name": "python",
   "nbconvert_exporter": "python",
   "pygments_lexer": "ipython3",
   "version": "3.7.3"
  }
 },
 "nbformat": 4,
 "nbformat_minor": 2
}
