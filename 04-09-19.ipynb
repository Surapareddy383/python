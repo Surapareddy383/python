{
 "cells": [
  {
   "cell_type": "markdown",
   "metadata": {},
   "source": [
    "## add of 2 numbers"
   ]
  },
  {
   "cell_type": "code",
   "execution_count": null,
   "metadata": {},
   "outputs": [],
   "source": [
    "a=10\n",
    "b=10\n",
    "c=a+b\n",
    "print(\"\",c)"
   ]
  },
  {
   "cell_type": "markdown",
   "metadata": {},
   "source": [
    "### greater value"
   ]
  },
  {
   "cell_type": "code",
   "execution_count": 27,
   "metadata": {},
   "outputs": [
    {
     "name": "stdout",
     "output_type": "stream",
     "text": [
      "69  is greater\n"
     ]
    }
   ],
   "source": [
    "a=69\n",
    "b=1\n",
    "if a>b :\n",
    "    print(a,\" is greater\")\n",
    "elif a==b:\n",
    "    print(a,b,\"both are same\")\n",
    "else:\n",
    "    print(b,\" is greater\")\n",
    "\n",
    "    "
   ]
  },
  {
   "cell_type": "markdown",
   "metadata": {},
   "source": [
    "## inputs"
   ]
  },
  {
   "cell_type": "code",
   "execution_count": 33,
   "metadata": {},
   "outputs": [
    {
     "name": "stdout",
     "output_type": "stream",
     "text": [
      "543\n",
      "<class 'int'>\n"
     ]
    }
   ],
   "source": [
    "a=input() \n",
    "a=int(a)\n",
    "print(type(a))"
   ]
  },
  {
   "cell_type": "code",
   "execution_count": 45,
   "metadata": {},
   "outputs": [
    {
     "name": "stdout",
     "output_type": "stream",
     "text": [
      "346333333333333333333333333333333333333333333333\n",
      "0987654345678906544569844578845687456874456765567645676\n",
      "9.876543456789066e+53  is greater\n"
     ]
    }
   ],
   "source": [
    "a=float (input())\n",
    "b=float (input())\n",
    "if a>b :\n",
    "    print(a,\" is greater\")\n",
    "elif a==b :\n",
    "    print(a,b,\" both are same\")\n",
    "else :\n",
    "    print(b,\" is greater\")"
   ]
  },
  {
   "cell_type": "code",
   "execution_count": null,
   "metadata": {},
   "outputs": [],
   "source": []
  }
 ],
 "metadata": {
  "kernelspec": {
   "display_name": "Python 3",
   "language": "python",
   "name": "python3"
  },
  "language_info": {
   "codemirror_mode": {
    "name": "ipython",
    "version": 3
   },
   "file_extension": ".py",
   "mimetype": "text/x-python",
   "name": "python",
   "nbconvert_exporter": "python",
   "pygments_lexer": "ipython3",
   "version": "3.7.3"
  }
 },
 "nbformat": 4,
 "nbformat_minor": 2
}
